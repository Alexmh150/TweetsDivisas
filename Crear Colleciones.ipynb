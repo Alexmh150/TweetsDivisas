{
 "cells": [
  {
   "cell_type": "code",
   "execution_count": 1,
   "metadata": {},
   "outputs": [],
   "source": [
    "from pymongo import MongoClient\n",
    "#Objeto MongoClient\n",
    "client = MongoClient('localhost', 27017)\n",
    "#Crear DB\n",
    "db = client['Tweets']\n",
    "#Datos para la colección\n",
    "Jul = pd.read_csv(\"Tweets_JulT.csv\", sep = \",\")\n",
    "#Dar formato fecha al campo Date\n",
    "Jul['Date'] = pd.to_datetime(Jul['Date'])\n",
    "#Crear Colleción\n",
    "collection = db['Jul']\n",
    "collection.insert_many(Jul.to_dict('records'))"
   ]
  },
  {
   "cell_type": "code",
   "execution_count": 1,
   "metadata": {},
   "outputs": [],
   "source": [
    "import pymongo"
   ]
  },
  {
   "cell_type": "code",
   "execution_count": 2,
   "metadata": {},
   "outputs": [],
   "source": [
    "import pandas as pd\n",
    "import datetime"
   ]
  },
  {
   "cell_type": "code",
   "execution_count": 3,
   "metadata": {},
   "outputs": [],
   "source": []
  },
  {
   "cell_type": "code",
   "execution_count": 4,
   "metadata": {},
   "outputs": [
    {
     "data": {
      "text/plain": [
       "<pymongo.results.InsertManyResult at 0x29633a16208>"
      ]
     },
     "execution_count": 4,
     "metadata": {},
     "output_type": "execute_result"
    }
   ],
   "source": [
    "Jul = pd.read_csv(\"Tweets_JulT.csv\", sep = \",\")\n",
    "Jul['Date'] = pd.to_datetime(Jul['Date'])\n",
    "collection = db['Jul']\n",
    "collection.insert_many(Jul.to_dict('records'))"
   ]
  },
  {
   "cell_type": "code",
   "execution_count": 6,
   "metadata": {
    "scrolled": true
   },
   "outputs": [
    {
     "data": {
      "text/plain": [
       "<pymongo.results.InsertManyResult at 0x29633cf7888>"
      ]
     },
     "execution_count": 6,
     "metadata": {},
     "output_type": "execute_result"
    }
   ],
   "source": [
    "Ago = pd.read_csv(\"Tweets_AgoT.csv\", sep = \",\")\n",
    "Ago['Date'] = pd.to_datetime(Ago['Date'])\n",
    "collection = db['Ago']\n",
    "collection.insert_many(Ago.to_dict('records'))"
   ]
  },
  {
   "cell_type": "code",
   "execution_count": 7,
   "metadata": {},
   "outputs": [
    {
     "data": {
      "text/plain": [
       "<pymongo.results.InsertManyResult at 0x2963355a3c8>"
      ]
     },
     "execution_count": 7,
     "metadata": {},
     "output_type": "execute_result"
    }
   ],
   "source": [
    "Sep = pd.read_csv(\"Tweets_SepT.csv\", sep = \",\")\n",
    "Sep['Date'] = pd.to_datetime(Sep['Date'])\n",
    "collection = db['Sep']\n",
    "collection.insert_many(Sep.to_dict('records'))"
   ]
  },
  {
   "cell_type": "code",
   "execution_count": 9,
   "metadata": {},
   "outputs": [
    {
     "data": {
      "text/plain": [
       "<pymongo.results.InsertManyResult at 0x29633725148>"
      ]
     },
     "execution_count": 9,
     "metadata": {},
     "output_type": "execute_result"
    }
   ],
   "source": [
    "Oct = pd.read_csv(\"Tweets_OctT.csv\", sep = \",\")\n",
    "Oct['Date'] = pd.to_datetime(Oct['Date'])\n",
    "collection = db['Oct']\n",
    "collection.insert_many(Oct.to_dict('records'))"
   ]
  },
  {
   "cell_type": "code",
   "execution_count": 10,
   "metadata": {},
   "outputs": [
    {
     "data": {
      "text/plain": [
       "<pymongo.results.InsertManyResult at 0x29633a5aa48>"
      ]
     },
     "execution_count": 10,
     "metadata": {},
     "output_type": "execute_result"
    }
   ],
   "source": [
    "Nov = pd.read_csv(\"Tweets_NovT.csv\", sep = \",\")\n",
    "Nov['Date'] = pd.to_datetime(Nov['Date'])\n",
    "collection = db['Nov']\n",
    "collection.insert_many(Nov.to_dict('records'))"
   ]
  },
  {
   "cell_type": "code",
   "execution_count": 11,
   "metadata": {},
   "outputs": [
    {
     "data": {
      "text/plain": [
       "<pymongo.results.InsertManyResult at 0x29633d6a888>"
      ]
     },
     "execution_count": 11,
     "metadata": {},
     "output_type": "execute_result"
    }
   ],
   "source": [
    "Dic = pd.read_csv(\"Tweets_DicT.csv\", sep = \",\")\n",
    "Dic['Date'] = pd.to_datetime(Dic['Date'])\n",
    "collection = db['Dic']\n",
    "collection.insert_many(Dic.to_dict('records'))"
   ]
  },
  {
   "cell_type": "code",
   "execution_count": 3,
   "metadata": {},
   "outputs": [
    {
     "data": {
      "text/html": [
       "<div>\n",
       "<style scoped>\n",
       "    .dataframe tbody tr th:only-of-type {\n",
       "        vertical-align: middle;\n",
       "    }\n",
       "\n",
       "    .dataframe tbody tr th {\n",
       "        vertical-align: top;\n",
       "    }\n",
       "\n",
       "    .dataframe thead th {\n",
       "        text-align: right;\n",
       "    }\n",
       "</style>\n",
       "<table border=\"1\" class=\"dataframe\">\n",
       "  <thead>\n",
       "    <tr style=\"text-align: right;\">\n",
       "      <th></th>\n",
       "      <th>Unnamed: 0</th>\n",
       "      <th>Date</th>\n",
       "      <th>Price</th>\n",
       "      <th>Open</th>\n",
       "      <th>High</th>\n",
       "      <th>Low</th>\n",
       "      <th>Change %</th>\n",
       "    </tr>\n",
       "  </thead>\n",
       "  <tbody>\n",
       "    <tr>\n",
       "      <td>0</td>\n",
       "      <td>86</td>\n",
       "      <td>2019-12-31</td>\n",
       "      <td>1.1212</td>\n",
       "      <td>1.1198</td>\n",
       "      <td>1.1241</td>\n",
       "      <td>1.1198</td>\n",
       "      <td>0.12%</td>\n",
       "    </tr>\n",
       "    <tr>\n",
       "      <td>1</td>\n",
       "      <td>87</td>\n",
       "      <td>2019-12-30</td>\n",
       "      <td>1.1199</td>\n",
       "      <td>1.1175</td>\n",
       "      <td>1.1224</td>\n",
       "      <td>1.1171</td>\n",
       "      <td>0.20%</td>\n",
       "    </tr>\n",
       "    <tr>\n",
       "      <td>2</td>\n",
       "      <td>88</td>\n",
       "      <td>2019-12-27</td>\n",
       "      <td>1.1177</td>\n",
       "      <td>1.1097</td>\n",
       "      <td>1.1188</td>\n",
       "      <td>1.1096</td>\n",
       "      <td>0.71%</td>\n",
       "    </tr>\n",
       "    <tr>\n",
       "      <td>3</td>\n",
       "      <td>89</td>\n",
       "      <td>2019-12-26</td>\n",
       "      <td>1.1098</td>\n",
       "      <td>1.1092</td>\n",
       "      <td>1.1111</td>\n",
       "      <td>1.1082</td>\n",
       "      <td>0.06%</td>\n",
       "    </tr>\n",
       "    <tr>\n",
       "      <td>4</td>\n",
       "      <td>90</td>\n",
       "      <td>2019-12-25</td>\n",
       "      <td>1.1091</td>\n",
       "      <td>1.1088</td>\n",
       "      <td>1.1106</td>\n",
       "      <td>1.1072</td>\n",
       "      <td>0.03%</td>\n",
       "    </tr>\n",
       "  </tbody>\n",
       "</table>\n",
       "</div>"
      ],
      "text/plain": [
       "   Unnamed: 0       Date   Price    Open    High     Low Change %\n",
       "0          86 2019-12-31  1.1212  1.1198  1.1241  1.1198    0.12%\n",
       "1          87 2019-12-30  1.1199  1.1175  1.1224  1.1171    0.20%\n",
       "2          88 2019-12-27  1.1177  1.1097  1.1188  1.1096    0.71%\n",
       "3          89 2019-12-26  1.1098  1.1092  1.1111  1.1082    0.06%\n",
       "4          90 2019-12-25  1.1091  1.1088  1.1106  1.1072    0.03%"
      ]
     },
     "execution_count": 3,
     "metadata": {},
     "output_type": "execute_result"
    }
   ],
   "source": [
    "Div = pd.read_csv(\"EUR-USD Jul-Dic2019.csv\", sep = \",\")\n",
    "Div['Date'] = pd.to_datetime(Div['Date'])\n",
    "Div.head()"
   ]
  },
  {
   "cell_type": "code",
   "execution_count": 53,
   "metadata": {},
   "outputs": [
    {
     "data": {
      "text/plain": [
       "<pymongo.results.InsertManyResult at 0x29636e458c8>"
      ]
     },
     "execution_count": 53,
     "metadata": {},
     "output_type": "execute_result"
    }
   ],
   "source": [
    "db = client['Divisas']\n",
    "collection = db['Divisas']\n",
    "collection.insert_many(Div.to_dict('records'))"
   ]
  },
  {
   "cell_type": "code",
   "execution_count": 54,
   "metadata": {},
   "outputs": [
    {
     "data": {
      "text/plain": [
       "12138"
      ]
     },
     "execution_count": 54,
     "metadata": {},
     "output_type": "execute_result"
    }
   ],
   "source": [
    "Jul.shape[0]"
   ]
  },
  {
   "cell_type": "code",
   "execution_count": 58,
   "metadata": {},
   "outputs": [
    {
     "data": {
      "text/html": [
       "<div>\n",
       "<style scoped>\n",
       "    .dataframe tbody tr th:only-of-type {\n",
       "        vertical-align: middle;\n",
       "    }\n",
       "\n",
       "    .dataframe tbody tr th {\n",
       "        vertical-align: top;\n",
       "    }\n",
       "\n",
       "    .dataframe thead th {\n",
       "        text-align: right;\n",
       "    }\n",
       "</style>\n",
       "<table border=\"1\" class=\"dataframe\">\n",
       "  <thead>\n",
       "    <tr style=\"text-align: right;\">\n",
       "      <th></th>\n",
       "      <th>Unnamed: 0</th>\n",
       "      <th>User</th>\n",
       "      <th>Text</th>\n",
       "      <th>Date</th>\n",
       "      <th>Favorites</th>\n",
       "      <th>Retweets</th>\n",
       "      <th>HashTags</th>\n",
       "    </tr>\n",
       "  </thead>\n",
       "  <tbody>\n",
       "    <tr>\n",
       "      <td>0</td>\n",
       "      <td>12137</td>\n",
       "      <td>CNNEE</td>\n",
       "      <td>Este gato se quedó atascado en la lavadora dur...</td>\n",
       "      <td>2019-07-01 00:00:14+00:00</td>\n",
       "      <td>29</td>\n",
       "      <td>128</td>\n",
       "      <td>NaN</td>\n",
       "    </tr>\n",
       "    <tr>\n",
       "      <td>1</td>\n",
       "      <td>12136</td>\n",
       "      <td>CNNEE</td>\n",
       "      <td>¿Crees que el gobierno de #Amlo ha reaccionado...</td>\n",
       "      <td>2019-07-01 00:05:06+00:00</td>\n",
       "      <td>3</td>\n",
       "      <td>19</td>\n",
       "      <td>#Amlo #Trump</td>\n",
       "    </tr>\n",
       "    <tr>\n",
       "      <td>2</td>\n",
       "      <td>12135</td>\n",
       "      <td>CNNEE</td>\n",
       "      <td>Durante su mandato, el empresario y político p...</td>\n",
       "      <td>2019-07-01 00:05:07+00:00</td>\n",
       "      <td>22</td>\n",
       "      <td>51</td>\n",
       "      <td>NaN</td>\n",
       "    </tr>\n",
       "    <tr>\n",
       "      <td>3</td>\n",
       "      <td>12134</td>\n",
       "      <td>CNNEE</td>\n",
       "      <td>¿Cómo usaría #Trump a #México para ganar la el...</td>\n",
       "      <td>2019-07-01 00:10:05+00:00</td>\n",
       "      <td>4</td>\n",
       "      <td>17</td>\n",
       "      <td>#Trump #M</td>\n",
       "    </tr>\n",
       "    <tr>\n",
       "      <td>4</td>\n",
       "      <td>12133</td>\n",
       "      <td>CNNEE</td>\n",
       "      <td>Trump es el primer presidente de Estados Unido...</td>\n",
       "      <td>2019-07-01 00:10:05+00:00</td>\n",
       "      <td>40</td>\n",
       "      <td>112</td>\n",
       "      <td>NaN</td>\n",
       "    </tr>\n",
       "    <tr>\n",
       "      <td>...</td>\n",
       "      <td>...</td>\n",
       "      <td>...</td>\n",
       "      <td>...</td>\n",
       "      <td>...</td>\n",
       "      <td>...</td>\n",
       "      <td>...</td>\n",
       "      <td>...</td>\n",
       "    </tr>\n",
       "    <tr>\n",
       "      <td>12133</td>\n",
       "      <td>4</td>\n",
       "      <td>CNNEE</td>\n",
       "      <td>Bebé cae de un sexto piso y una multitud lo at...</td>\n",
       "      <td>2019-07-31 23:47:06+00:00</td>\n",
       "      <td>44</td>\n",
       "      <td>175</td>\n",
       "      <td>NaN</td>\n",
       "    </tr>\n",
       "    <tr>\n",
       "      <td>12134</td>\n",
       "      <td>3</td>\n",
       "      <td>bbcmundo</td>\n",
       "      <td>La idea es experimentar en ratas y ratones par...</td>\n",
       "      <td>2019-07-31 23:49:04+00:00</td>\n",
       "      <td>77</td>\n",
       "      <td>67</td>\n",
       "      <td>NaN</td>\n",
       "    </tr>\n",
       "    <tr>\n",
       "      <td>12135</td>\n",
       "      <td>2</td>\n",
       "      <td>CNNEE</td>\n",
       "      <td>El problema, cuya solución todavía no es clara...</td>\n",
       "      <td>2019-07-31 23:50:04+00:00</td>\n",
       "      <td>9</td>\n",
       "      <td>18</td>\n",
       "      <td>NaN</td>\n",
       "    </tr>\n",
       "    <tr>\n",
       "      <td>12136</td>\n",
       "      <td>1</td>\n",
       "      <td>CNNEE</td>\n",
       "      <td>Una fuente dijo que Estados Unidos tuvo un pap...</td>\n",
       "      <td>2019-07-31 23:53:03+00:00</td>\n",
       "      <td>41</td>\n",
       "      <td>106</td>\n",
       "      <td>NaN</td>\n",
       "    </tr>\n",
       "    <tr>\n",
       "      <td>12137</td>\n",
       "      <td>0</td>\n",
       "      <td>CNNEE</td>\n",
       "      <td>Desde arriba, las islas artificiales de Palm J...</td>\n",
       "      <td>2019-07-31 23:55:09+00:00</td>\n",
       "      <td>23</td>\n",
       "      <td>50</td>\n",
       "      <td>NaN</td>\n",
       "    </tr>\n",
       "  </tbody>\n",
       "</table>\n",
       "<p>12138 rows × 7 columns</p>\n",
       "</div>"
      ],
      "text/plain": [
       "       Unnamed: 0      User  \\\n",
       "0           12137     CNNEE   \n",
       "1           12136     CNNEE   \n",
       "2           12135     CNNEE   \n",
       "3           12134     CNNEE   \n",
       "4           12133     CNNEE   \n",
       "...           ...       ...   \n",
       "12133           4     CNNEE   \n",
       "12134           3  bbcmundo   \n",
       "12135           2     CNNEE   \n",
       "12136           1     CNNEE   \n",
       "12137           0     CNNEE   \n",
       "\n",
       "                                                    Text  \\\n",
       "0      Este gato se quedó atascado en la lavadora dur...   \n",
       "1      ¿Crees que el gobierno de #Amlo ha reaccionado...   \n",
       "2      Durante su mandato, el empresario y político p...   \n",
       "3      ¿Cómo usaría #Trump a #México para ganar la el...   \n",
       "4      Trump es el primer presidente de Estados Unido...   \n",
       "...                                                  ...   \n",
       "12133  Bebé cae de un sexto piso y una multitud lo at...   \n",
       "12134  La idea es experimentar en ratas y ratones par...   \n",
       "12135  El problema, cuya solución todavía no es clara...   \n",
       "12136  Una fuente dijo que Estados Unidos tuvo un pap...   \n",
       "12137  Desde arriba, las islas artificiales de Palm J...   \n",
       "\n",
       "                           Date  Favorites  Retweets      HashTags  \n",
       "0     2019-07-01 00:00:14+00:00         29       128           NaN  \n",
       "1     2019-07-01 00:05:06+00:00          3        19  #Amlo #Trump  \n",
       "2     2019-07-01 00:05:07+00:00         22        51           NaN  \n",
       "3     2019-07-01 00:10:05+00:00          4        17     #Trump #M  \n",
       "4     2019-07-01 00:10:05+00:00         40       112           NaN  \n",
       "...                         ...        ...       ...           ...  \n",
       "12133 2019-07-31 23:47:06+00:00         44       175           NaN  \n",
       "12134 2019-07-31 23:49:04+00:00         77        67           NaN  \n",
       "12135 2019-07-31 23:50:04+00:00          9        18           NaN  \n",
       "12136 2019-07-31 23:53:03+00:00         41       106           NaN  \n",
       "12137 2019-07-31 23:55:09+00:00         23        50           NaN  \n",
       "\n",
       "[12138 rows x 7 columns]"
      ]
     },
     "execution_count": 58,
     "metadata": {},
     "output_type": "execute_result"
    }
   ],
   "source": [
    "Jul"
   ]
  },
  {
   "cell_type": "code",
   "execution_count": 63,
   "metadata": {},
   "outputs": [],
   "source": [
    "Jul.index = Jul['Date']\n",
    "JulSem = Jul['Text'].resample(\"W\")"
   ]
  },
  {
   "cell_type": "code",
   "execution_count": 64,
   "metadata": {},
   "outputs": [
    {
     "data": {
      "text/plain": [
       "<pandas.core.resample.DatetimeIndexResampler object at 0x0000029636753088>"
      ]
     },
     "execution_count": 64,
     "metadata": {},
     "output_type": "execute_result"
    }
   ],
   "source": [
    "JulSem"
   ]
  },
  {
   "cell_type": "code",
   "execution_count": 68,
   "metadata": {},
   "outputs": [
    {
     "name": "stdout",
     "output_type": "stream",
     "text": [
      "(Timestamp('2019-07-07 00:00:00+0000', tz='UTC', freq='W-SUN'), Date\n",
      "2019-07-01 00:00:14+00:00    Este gato se quedó atascado en la lavadora dur...\n",
      "2019-07-01 00:05:06+00:00    ¿Crees que el gobierno de #Amlo ha reaccionado...\n",
      "2019-07-01 00:05:07+00:00    Durante su mandato, el empresario y político p...\n",
      "2019-07-01 00:10:05+00:00    ¿Cómo usaría #Trump a #México para ganar la el...\n",
      "2019-07-01 00:10:05+00:00    Trump es el primer presidente de Estados Unido...\n",
      "                                                   ...                        \n",
      "2019-07-07 23:35:05+00:00    “Así como no hay que consumir comida podrida, ...\n",
      "2019-07-07 23:40:07+00:00    Los memes de la final Brasil-Perú también recu...\n",
      "2019-07-07 23:40:32+00:00    \"Whitexicans\": ¿qué hay realmente detrás de la...\n",
      "2019-07-07 23:45:07+00:00    La reacción del primer ministro israelí fue in...\n",
      "2019-07-07 23:50:05+00:00    El Tratado Interamericano de Asistencia Recípr...\n",
      "Name: Text, Length: 2908, dtype: object)\n",
      "(Timestamp('2019-07-14 00:00:00+0000', tz='UTC', freq='W-SUN'), Date\n",
      "2019-07-08 00:00:48+00:00    Sara-Jayne se enteró a los 14 años de de que s...\n",
      "2019-07-08 00:10:04+00:00    Esta nueva protesta tenía como objetivo explic...\n",
      "2019-07-08 00:20:02+00:00    Jõao Gilberto ya no está en este mundo pero su...\n",
      "2019-07-08 00:21:05+00:00    \"Dos años atrás verías a un montón de gente co...\n",
      "2019-07-08 00:24:04+00:00    Chacón participaba en una protesta por la falt...\n",
      "                                                   ...                        \n",
      "2019-07-14 23:27:03+00:00    Según @mauriciomacri, @CFKArgentina ve la polí...\n",
      "2019-07-14 23:30:10+00:00    Fui violada y quedé destrozada, así que tomé m...\n",
      "2019-07-14 23:42:06+00:00    Manifestantes piden la renuncia del gobernador...\n",
      "2019-07-14 23:42:50+00:00    Esta es la señal que predijo las últimas 7 rec...\n",
      "2019-07-14 23:45:39+00:00    Comenzaron las redadas. Esto es lo que debes s...\n",
      "Name: Text, Length: 2609, dtype: object)\n",
      "(Timestamp('2019-07-21 00:00:00+0000', tz='UTC', freq='W-SUN'), Date\n",
      "2019-07-15 00:00:09+00:00    El canciller Marcelo Ebrard sostuvo una llamad...\n",
      "2019-07-15 00:04:31+00:00    Estos hombres son cazadores de clientes furiosos.\n",
      "2019-07-15 00:06:24+00:00    En muchos de nuestros videos de lenguaje se ge...\n",
      "2019-07-15 00:07:04+00:00    Cada vez son más las voces que se unen para pe...\n",
      "2019-07-15 00:11:05+00:00    Entrevistó a Ted Bundy, Charles Manson y John ...\n",
      "                                                   ...                        \n",
      "2019-07-21 23:25:07+00:00    El príncipe Jorge cumple seis años y el Palaci...\n",
      "2019-07-21 23:38:05+00:00    ¿Por qué hay fanáticos de los ovnis planeando ...\n",
      "2019-07-21 23:43:06+00:00    En el video, la manifestación de miembros de l...\n",
      "2019-07-21 23:45:05+00:00    ¿Cómo se drogan los perros? ¿Cómo tratar a un ...\n",
      "2019-07-21 23:58:46+00:00    Es demasiado extraño escuchar 'Allahu Akbar' e...\n",
      "Name: Text, Length: 2795, dtype: object)\n",
      "(Timestamp('2019-07-28 00:00:00+0000', tz='UTC', freq='W-SUN'), Date\n",
      "2019-07-22 00:00:12+00:00    La heredera de Disney visitó Disneyland en sec...\n",
      "2019-07-22 00:04:30+00:00    Opinión. Las mujeres en Puerto Rico saben muy ...\n",
      "2019-07-22 00:11:05+00:00    La frustración de Darwin con el \"extraordinari...\n",
      "2019-07-22 00:13:06+00:00    Los mensajes del controvertido chat en el que ...\n",
      "2019-07-22 00:15:03+00:00    De la crisis de la deuda al huracán María a un...\n",
      "                                                   ...                        \n",
      "2019-07-28 23:46:03+00:00    Un enigma que amenazaba las bases del evolucio...\n",
      "2019-07-28 23:51:02+00:00    Muchos de los barcos que navegan por el mundo ...\n",
      "2019-07-28 23:57:03+00:00    Gustavo Cerati estaba en coma, Charly Alberti ...\n",
      "2019-07-28 23:59:05+00:00    Hay una razón práctica detrás del zumbido de l...\n",
      "2019-07-28 23:59:05+00:00    Hay una razón práctica detrás del zumbido de l...\n",
      "Name: Text, Length: 2684, dtype: object)\n",
      "(Timestamp('2019-08-04 00:00:00+0000', tz='UTC', freq='W-SUN'), Date\n",
      "2019-07-29 00:00:11+00:00       Latinoamérica hace parte de 'La Casa de Papel'\n",
      "2019-07-29 00:02:03+00:00    \"Era como estar en una prisión\": los peligros ...\n",
      "2019-07-29 00:05:02+00:00    Un estadounidense y su esposa fueron asesinado...\n",
      "2019-07-29 00:13:03+00:00    Así es Boris Johnson, el nuevo primer ministro...\n",
      "2019-07-29 00:14:03+00:00    Casi todos los humanos pueden usar esta técnic...\n",
      "                                                   ...                        \n",
      "2019-07-31 23:47:06+00:00    Bebé cae de un sexto piso y una multitud lo at...\n",
      "2019-07-31 23:49:04+00:00    La idea es experimentar en ratas y ratones par...\n",
      "2019-07-31 23:50:04+00:00    El problema, cuya solución todavía no es clara...\n",
      "2019-07-31 23:53:03+00:00    Una fuente dijo que Estados Unidos tuvo un pap...\n",
      "2019-07-31 23:55:09+00:00    Desde arriba, las islas artificiales de Palm J...\n",
      "Name: Text, Length: 1142, dtype: object)\n"
     ]
    }
   ],
   "source": [
    "for i in JulSem:\n",
    "    print(i)"
   ]
  },
  {
   "cell_type": "code",
   "execution_count": 69,
   "metadata": {},
   "outputs": [
    {
     "ename": "KeyError",
     "evalue": "'W'",
     "output_type": "error",
     "traceback": [
      "\u001b[1;31m---------------------------------------------------------------------------\u001b[0m",
      "\u001b[1;31mKeyError\u001b[0m                                  Traceback (most recent call last)",
      "\u001b[1;32m<ipython-input-69-a1a48613c159>\u001b[0m in \u001b[0;36m<module>\u001b[1;34m\u001b[0m\n\u001b[1;32m----> 1\u001b[1;33m \u001b[0mJulSemGroup\u001b[0m \u001b[1;33m=\u001b[0m \u001b[0mJul\u001b[0m\u001b[1;33m[\u001b[0m\u001b[1;34m'Text'\u001b[0m\u001b[1;33m]\u001b[0m\u001b[1;33m.\u001b[0m\u001b[0mgroupby\u001b[0m\u001b[1;33m(\u001b[0m\u001b[1;34m\"W\"\u001b[0m\u001b[1;33m)\u001b[0m\u001b[1;33m\u001b[0m\u001b[1;33m\u001b[0m\u001b[0m\n\u001b[0m",
      "\u001b[1;32m~\\Anaconda3\\lib\\site-packages\\pandas\\core\\generic.py\u001b[0m in \u001b[0;36mgroupby\u001b[1;34m(self, by, axis, level, as_index, sort, group_keys, squeeze, observed, **kwargs)\u001b[0m\n\u001b[0;32m   7892\u001b[0m             \u001b[0msqueeze\u001b[0m\u001b[1;33m=\u001b[0m\u001b[0msqueeze\u001b[0m\u001b[1;33m,\u001b[0m\u001b[1;33m\u001b[0m\u001b[1;33m\u001b[0m\u001b[0m\n\u001b[0;32m   7893\u001b[0m             \u001b[0mobserved\u001b[0m\u001b[1;33m=\u001b[0m\u001b[0mobserved\u001b[0m\u001b[1;33m,\u001b[0m\u001b[1;33m\u001b[0m\u001b[1;33m\u001b[0m\u001b[0m\n\u001b[1;32m-> 7894\u001b[1;33m             \u001b[1;33m**\u001b[0m\u001b[0mkwargs\u001b[0m\u001b[1;33m\u001b[0m\u001b[1;33m\u001b[0m\u001b[0m\n\u001b[0m\u001b[0;32m   7895\u001b[0m         )\n\u001b[0;32m   7896\u001b[0m \u001b[1;33m\u001b[0m\u001b[0m\n",
      "\u001b[1;32m~\\Anaconda3\\lib\\site-packages\\pandas\\core\\groupby\\groupby.py\u001b[0m in \u001b[0;36mgroupby\u001b[1;34m(obj, by, **kwds)\u001b[0m\n\u001b[0;32m   2520\u001b[0m         \u001b[1;32mraise\u001b[0m \u001b[0mTypeError\u001b[0m\u001b[1;33m(\u001b[0m\u001b[1;34m\"invalid type: {}\"\u001b[0m\u001b[1;33m.\u001b[0m\u001b[0mformat\u001b[0m\u001b[1;33m(\u001b[0m\u001b[0mobj\u001b[0m\u001b[1;33m)\u001b[0m\u001b[1;33m)\u001b[0m\u001b[1;33m\u001b[0m\u001b[1;33m\u001b[0m\u001b[0m\n\u001b[0;32m   2521\u001b[0m \u001b[1;33m\u001b[0m\u001b[0m\n\u001b[1;32m-> 2522\u001b[1;33m     \u001b[1;32mreturn\u001b[0m \u001b[0mklass\u001b[0m\u001b[1;33m(\u001b[0m\u001b[0mobj\u001b[0m\u001b[1;33m,\u001b[0m \u001b[0mby\u001b[0m\u001b[1;33m,\u001b[0m \u001b[1;33m**\u001b[0m\u001b[0mkwds\u001b[0m\u001b[1;33m)\u001b[0m\u001b[1;33m\u001b[0m\u001b[1;33m\u001b[0m\u001b[0m\n\u001b[0m",
      "\u001b[1;32m~\\Anaconda3\\lib\\site-packages\\pandas\\core\\groupby\\groupby.py\u001b[0m in \u001b[0;36m__init__\u001b[1;34m(self, obj, keys, axis, level, grouper, exclusions, selection, as_index, sort, group_keys, squeeze, observed, **kwargs)\u001b[0m\n\u001b[0;32m    389\u001b[0m                 \u001b[0msort\u001b[0m\u001b[1;33m=\u001b[0m\u001b[0msort\u001b[0m\u001b[1;33m,\u001b[0m\u001b[1;33m\u001b[0m\u001b[1;33m\u001b[0m\u001b[0m\n\u001b[0;32m    390\u001b[0m                 \u001b[0mobserved\u001b[0m\u001b[1;33m=\u001b[0m\u001b[0mobserved\u001b[0m\u001b[1;33m,\u001b[0m\u001b[1;33m\u001b[0m\u001b[1;33m\u001b[0m\u001b[0m\n\u001b[1;32m--> 391\u001b[1;33m                 \u001b[0mmutated\u001b[0m\u001b[1;33m=\u001b[0m\u001b[0mself\u001b[0m\u001b[1;33m.\u001b[0m\u001b[0mmutated\u001b[0m\u001b[1;33m,\u001b[0m\u001b[1;33m\u001b[0m\u001b[1;33m\u001b[0m\u001b[0m\n\u001b[0m\u001b[0;32m    392\u001b[0m             )\n\u001b[0;32m    393\u001b[0m \u001b[1;33m\u001b[0m\u001b[0m\n",
      "\u001b[1;32m~\\Anaconda3\\lib\\site-packages\\pandas\\core\\groupby\\grouper.py\u001b[0m in \u001b[0;36m_get_grouper\u001b[1;34m(obj, key, axis, level, sort, observed, mutated, validate)\u001b[0m\n\u001b[0;32m    619\u001b[0m                 \u001b[0min_axis\u001b[0m\u001b[1;33m,\u001b[0m \u001b[0mname\u001b[0m\u001b[1;33m,\u001b[0m \u001b[0mlevel\u001b[0m\u001b[1;33m,\u001b[0m \u001b[0mgpr\u001b[0m \u001b[1;33m=\u001b[0m \u001b[1;32mFalse\u001b[0m\u001b[1;33m,\u001b[0m \u001b[1;32mNone\u001b[0m\u001b[1;33m,\u001b[0m \u001b[0mgpr\u001b[0m\u001b[1;33m,\u001b[0m \u001b[1;32mNone\u001b[0m\u001b[1;33m\u001b[0m\u001b[1;33m\u001b[0m\u001b[0m\n\u001b[0;32m    620\u001b[0m             \u001b[1;32melse\u001b[0m\u001b[1;33m:\u001b[0m\u001b[1;33m\u001b[0m\u001b[1;33m\u001b[0m\u001b[0m\n\u001b[1;32m--> 621\u001b[1;33m                 \u001b[1;32mraise\u001b[0m \u001b[0mKeyError\u001b[0m\u001b[1;33m(\u001b[0m\u001b[0mgpr\u001b[0m\u001b[1;33m)\u001b[0m\u001b[1;33m\u001b[0m\u001b[1;33m\u001b[0m\u001b[0m\n\u001b[0m\u001b[0;32m    622\u001b[0m         \u001b[1;32melif\u001b[0m \u001b[0misinstance\u001b[0m\u001b[1;33m(\u001b[0m\u001b[0mgpr\u001b[0m\u001b[1;33m,\u001b[0m \u001b[0mGrouper\u001b[0m\u001b[1;33m)\u001b[0m \u001b[1;32mand\u001b[0m \u001b[0mgpr\u001b[0m\u001b[1;33m.\u001b[0m\u001b[0mkey\u001b[0m \u001b[1;32mis\u001b[0m \u001b[1;32mnot\u001b[0m \u001b[1;32mNone\u001b[0m\u001b[1;33m:\u001b[0m\u001b[1;33m\u001b[0m\u001b[1;33m\u001b[0m\u001b[0m\n\u001b[0;32m    623\u001b[0m             \u001b[1;31m# Add key to exclusions\u001b[0m\u001b[1;33m\u001b[0m\u001b[1;33m\u001b[0m\u001b[1;33m\u001b[0m\u001b[0m\n",
      "\u001b[1;31mKeyError\u001b[0m: 'W'"
     ]
    }
   ],
   "source": []
  },
  {
   "cell_type": "code",
   "execution_count": null,
   "metadata": {},
   "outputs": [],
   "source": []
  }
 ],
 "metadata": {
  "kernelspec": {
   "display_name": "Python 3",
   "language": "python",
   "name": "python3"
  },
  "language_info": {
   "codemirror_mode": {
    "name": "ipython",
    "version": 3
   },
   "file_extension": ".py",
   "mimetype": "text/x-python",
   "name": "python",
   "nbconvert_exporter": "python",
   "pygments_lexer": "ipython3",
   "version": "3.7.4"
  }
 },
 "nbformat": 4,
 "nbformat_minor": 2
}

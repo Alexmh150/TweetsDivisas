{
 "cells": [
  {
   "cell_type": "code",
   "execution_count": 1,
   "metadata": {},
   "outputs": [],
   "source": [
    "import pandas as pd\n",
    "from datetime import *\n",
    "from pymongo import MongoClient\n",
    "\n",
    "client = MongoClient('localhost', 27017)"
   ]
  },
  {
   "cell_type": "code",
   "execution_count": 2,
   "metadata": {},
   "outputs": [],
   "source": [
    "def extraer(fecha_inicial,fecha_final):\n",
    "    tweets = client['Tweets'].tweets.find({\n",
    "    'Date': {\n",
    "        '$gte': fecha_inicial, \n",
    "        '$lt': fecha_final\n",
    "    }\n",
    "})\n",
    "    semana = pd.DataFrame(list(tweets))\n",
    "    semana = semana[['Date','Text']]\n",
    "    return semana"
   ]
  },
  {
   "cell_type": "code",
   "execution_count": 3,
   "metadata": {},
   "outputs": [],
   "source": [
    "fecha_inicial = datetime.strptime('01/07/2019', '%d/%m/%Y')\n",
    "fecha_final = datetime.strptime('08/07/2019', '%d/%m/%Y')\n",
    "Semana = 1\n",
    "Semanas = {}\n",
    "for i in range(27):     \n",
    "    #print(Semana,fecha_inicial, fecha_final)\n",
    "    Semanas.update({Semana: [fecha_inicial,fecha_final]})\n",
    "    fecha_inicial = fecha_final\n",
    "    fecha_final = fecha_final + timedelta(7)\n",
    "    Semana += 1"
   ]
  },
  {
   "cell_type": "code",
   "execution_count": 4,
   "metadata": {},
   "outputs": [],
   "source": [
    "for i in range(28):\n",
    "    pass\n",
    "    #print(\"Semana\"+str(i)+\" = extraer(Semanas[\"+str(i)+\"][0],Semanas[\"+str(i)+\"][1])\")"
   ]
  },
  {
   "cell_type": "code",
   "execution_count": 5,
   "metadata": {},
   "outputs": [],
   "source": [
    "Semana1 = extraer(Semanas[1][0],Semanas[1][1])\n",
    "Semana2 = extraer(Semanas[2][0],Semanas[2][1])\n",
    "Semana3 = extraer(Semanas[3][0],Semanas[3][1])\n",
    "Semana4 = extraer(Semanas[4][0],Semanas[4][1])\n",
    "Semana5 = extraer(Semanas[5][0],Semanas[5][1])\n",
    "Semana6 = extraer(Semanas[6][0],Semanas[6][1])\n",
    "Semana7 = extraer(Semanas[7][0],Semanas[7][1])\n",
    "Semana8 = extraer(Semanas[8][0],Semanas[8][1])\n",
    "Semana9 = extraer(Semanas[9][0],Semanas[9][1])\n",
    "Semana10 = extraer(Semanas[10][0],Semanas[10][1])\n",
    "Semana11 = extraer(Semanas[11][0],Semanas[11][1])\n",
    "Semana12 = extraer(Semanas[12][0],Semanas[12][1])\n",
    "Semana13 = extraer(Semanas[13][0],Semanas[13][1])\n",
    "Semana14 = extraer(Semanas[14][0],Semanas[14][1])\n",
    "Semana15 = extraer(Semanas[15][0],Semanas[15][1])\n",
    "Semana16 = extraer(Semanas[16][0],Semanas[16][1])\n",
    "Semana17 = extraer(Semanas[17][0],Semanas[17][1])\n",
    "Semana18 = extraer(Semanas[18][0],Semanas[18][1])\n",
    "Semana19 = extraer(Semanas[19][0],Semanas[19][1])\n",
    "Semana20 = extraer(Semanas[20][0],Semanas[20][1])\n",
    "Semana21 = extraer(Semanas[21][0],Semanas[21][1])\n",
    "Semana22 = extraer(Semanas[22][0],Semanas[22][1])\n",
    "Semana23 = extraer(Semanas[23][0],Semanas[23][1])\n",
    "Semana24 = extraer(Semanas[24][0],Semanas[24][1])\n",
    "Semana25 = extraer(Semanas[25][0],Semanas[25][1])\n",
    "Semana26 = extraer(Semanas[26][0],Semanas[26][1])\n",
    "Semana27 = extraer(Semanas[27][0],Semanas[27][1])"
   ]
  },
  {
   "cell_type": "code",
   "execution_count": 6,
   "metadata": {},
   "outputs": [],
   "source": [
    "import nltk\n",
    "from nltk.tokenize import word_tokenize\n",
    "from nltk.corpus import stopwords"
   ]
  },
  {
   "cell_type": "code",
   "execution_count": 10,
   "metadata": {},
   "outputs": [],
   "source": [
    "politico = ['presidente', 'gobernador', 'debate', 'político', 'elecciones', 'trump', 'demócratas']\n",
    "social = ['sexual','inmigrantes', 'migrantes', 'redadas', 'armas', 'crisis', 'protestas', 'lebarón', \n",
    "          'Problema-Social', 'epstein', 'inProblema-Social', 'tiroteo', 'paro']\n",
    "naturaleza = ['incendios', 'huracán', 'tormenta', 'naturaleza','terremoto']\n",
    "cultura = ['eclipse', 'final', 'copa', 'luna', 'joker', 'wars', 'cultura', 'josé', 'navidad', 'película']\n",
    "narcotrafico = ['chapo', 'farc', 'narcotrafico']\n",
    "todos = politico+social+naturaleza+cultura+narcotrafico\n",
    "\n",
    "Palabras_Vacias = ['años', 'https', 'julio', 'día', 'mira', 'ver', 'cómo', 'después', 'hoy', 'hace', \n",
    "                   'ser', 'saber', 'dijo', 'así', 'dice', 'aquí', 'tras', 'según', 'puede', 'gran', \n",
    "                   'ahora', 'debes', 'contamos', 'acuerdo', 'hacer', 'parte', 'paso', 'rico', 'año', \n",
    "                   'dos', 'si', 'unidos', 'puerto', 'país', 'mundo', 'personas', 'hora', 'minuto', \n",
    "                   'nueva', 'historia', 'familia', 'década', 'semana','solar', 'países', 'vez', 'menos',\n",
    "                   'últimos', 'kong','sido' , 'florida', 'vida', 'venezuela', 'américa', 'total', \n",
    "                   'venezuela', 'millones', 'tiroteos', 'ciudad', 'perú', 'bolivia', 'chile', 'españa', \n",
    "                   'nuevo', 'méxico','final', 'brasil', 'china', 'video', 'domingo', 'hombre', 'podría', \n",
    "                   'rusia', 'the', 'argentina', 'ecuador','accidente', 'llamada', 'latina', 'evo',\n",
    "                   'ataque', 'muerte', 'colombia', 'morales', 'moreno', 'lenín', 'miami', 'solo', 'renuncia', \n",
    "                   'primer', 'dorian', 'presidente', 'gobierno', 'nobel', 'español', 'latina', 'avión', 'star', \n",
    "                   'donald', 'california', 'caso', 'ice', 'guzmán', 'gobernador', 'rosselló', 'Rico', \n",
    "                   'texas', 'tan', 'hong', 'amazonas', 'greta', 'correa', 'cnn', 'vivo', 'hijo', 'piñera', \n",
    "                   'huracanes', 'septiembre', 'hablasespañol', 'primera', 'mejor', 'entrevista', 'latina', 'japón', \n",
    "                   'mujer', 'imágenes', 'irán', 'días', 'saber', 'tres', 'área', 'hice', 'cosas', 'york', \n",
    "                   'casa', 'juicio']"
   ]
  },
  {
   "cell_type": "code",
   "execution_count": 11,
   "metadata": {},
   "outputs": [],
   "source": [
    "def palabras_claves(TweetsSemanales):\n",
    "    entretenimiento = ['eclipse','mundial']\n",
    "    TweetsSemanales.drop_duplicates(['Text'], keep='last')\n",
    "    TweetsSemanales = TweetsSemanales.drop(TweetsSemanales[pd.isnull(TweetsSemanales['Text'])].index)\n",
    "    texto = TweetsSemanales['Text'].tolist()\n",
    "    texto = \" \".join(texto)\n",
    "    \n",
    "    tokens = word_tokenize(texto,\"spanish\")\n",
    "    tokens = [word.lower() for word in tokens if word.isalpha()] # Remover los signos de puntuación\n",
    "    \n",
    "    clean_tokens = tokens[:]\n",
    "    for token in tokens:\n",
    "        if token in stopwords.words('spanish'):\n",
    "            clean_tokens.remove(token)\n",
    "            \n",
    "    for token in clean_tokens:\n",
    "        if token in Palabras_Vacias:\n",
    "            clean_tokens.remove(token)\n",
    "            \n",
    "    for token in clean_tokens:        \n",
    "        if token in politico:\n",
    "            clean_tokens = [w.replace(token,\"político\") for w in clean_tokens]\n",
    "        elif token in social:\n",
    "            clean_tokens = [w.replace(token,\"Problema-Social\") for w in clean_tokens]\n",
    "        elif token in cultura:\n",
    "            clean_tokens = [w.replace(token,\"cultura\") for w in clean_tokens]\n",
    "        elif token in naturaleza:\n",
    "            clean_tokens = [w.replace(token,\"naturaleza\") for w in clean_tokens]\n",
    "        elif token in narcotrafico:\n",
    "            clean_tokens = [w.replace(token,\"narcotrafico\") for w in clean_tokens]\n",
    "\n",
    "    \n",
    "    #for i in range(len(clean_tokens)):\n",
    "    #    if clean_tokens[i] in social:\n",
    "    #    clean_tokens = [w.replace(clean_tokens[i],\"entretenimiento\") for w in clean_tokens]\n",
    "    \n",
    "    freq_clean_sin_lem = nltk.FreqDist(clean_tokens)   \n",
    "    \n",
    "    return freq_clean_sin_lem.most_common(10)"
   ]
  },
  {
   "cell_type": "code",
   "execution_count": 12,
   "metadata": {},
   "outputs": [],
   "source": [
    "for i in range(28):\n",
    "    pass\n",
    "    #print(\"claves\"+str(i)+\" = palabras_claves(Semana\"+str(i)+\")\")"
   ]
  },
  {
   "cell_type": "code",
   "execution_count": 13,
   "metadata": {},
   "outputs": [],
   "source": [
    "claves1 = palabras_claves(Semana1)\n",
    "claves2 = palabras_claves(Semana2)\n",
    "claves3 = palabras_claves(Semana3)\n",
    "claves4 = palabras_claves(Semana4)\n",
    "claves5 = palabras_claves(Semana5)\n",
    "claves6 = palabras_claves(Semana6)\n",
    "claves7 = palabras_claves(Semana7)\n",
    "claves8 = palabras_claves(Semana8)\n",
    "claves9 = palabras_claves(Semana9)\n",
    "claves10 = palabras_claves(Semana10)\n",
    "claves11 = palabras_claves(Semana11)\n",
    "claves12 = palabras_claves(Semana12)\n",
    "claves13 = palabras_claves(Semana13)\n",
    "claves14 = palabras_claves(Semana14)\n",
    "claves15 = palabras_claves(Semana15)\n",
    "claves16 = palabras_claves(Semana16)\n",
    "claves17 = palabras_claves(Semana17)\n",
    "claves18 = palabras_claves(Semana18)\n",
    "claves19 = palabras_claves(Semana19)\n",
    "claves20 = palabras_claves(Semana20)\n",
    "claves21 = palabras_claves(Semana21)\n",
    "claves22 = palabras_claves(Semana22)\n",
    "claves23 = palabras_claves(Semana23)\n",
    "claves24 = palabras_claves(Semana24)\n",
    "claves25 = palabras_claves(Semana25)\n",
    "claves26 = palabras_claves(Semana26)\n",
    "claves27 = palabras_claves(Semana27)"
   ]
  },
  {
   "cell_type": "code",
   "execution_count": 14,
   "metadata": {},
   "outputs": [
    {
     "data": {
      "text/plain": [
       "[('cultura', 278),\n",
       " ('político', 158),\n",
       " ('Problema-Social', 114),\n",
       " ('años', 62),\n",
       " ('inProblema-Social', 59),\n",
       " ('mundial', 49),\n",
       " ('naturaleza', 49),\n",
       " ('total', 49),\n",
       " ('independencia', 46),\n",
       " ('bajo', 42)]"
      ]
     },
     "execution_count": 14,
     "metadata": {},
     "output_type": "execute_result"
    }
   ],
   "source": [
    "claves1"
   ]
  },
  {
   "cell_type": "code",
   "execution_count": 15,
   "metadata": {},
   "outputs": [],
   "source": [
    "Claves_T = [claves1, claves2, claves3, claves4, claves5, claves6, claves7, claves8, claves9, claves10,\n",
    "           claves11, claves12, claves13, claves14, claves15, claves16, claves17, claves18, claves19, claves20,\n",
    "           claves21, claves22, claves23, claves24, claves25, claves26, claves27]"
   ]
  },
  {
   "cell_type": "code",
   "execution_count": 16,
   "metadata": {},
   "outputs": [],
   "source": [
    "fecha_inicial = datetime.strptime('01/07/2019', '%d/%m/%Y')\n",
    "fecha_final = datetime.strptime('08/07/2019', '%d/%m/%Y')\n",
    "Sem = 1\n",
    "Total = {}\n",
    "for i in range(27):     \n",
    "    Total.update({\"Semana \"+str(i+1)+\"\": [fecha_inicial,fecha_final,Claves_T[i]]})\n",
    "    fecha_inicial = fecha_final\n",
    "    fecha_final = fecha_final + timedelta(7)\n",
    "    Sem += 1"
   ]
  },
  {
   "cell_type": "code",
   "execution_count": 17,
   "metadata": {},
   "outputs": [],
   "source": [
    "df = pd.DataFrame([key for key in Total.keys()], columns=['Semana'])"
   ]
  },
  {
   "cell_type": "code",
   "execution_count": 18,
   "metadata": {},
   "outputs": [],
   "source": [
    "f_ini = []\n",
    "f_fin = []\n",
    "for i in range(1,28):\n",
    "    f_ini.append(Total['Semana '+str(i)+\"\"][0])\n",
    "    f_fin.append(Total['Semana '+str(i)+\"\"][1])\n",
    "    \n",
    "df['Fecha Inicio'] = f_ini\n",
    "df['Fecha Fin'] = f_fin"
   ]
  },
  {
   "cell_type": "code",
   "execution_count": 19,
   "metadata": {},
   "outputs": [],
   "source": [
    "clavs1 = []\n",
    "clavs2 = []\n",
    "clavs3 = []\n",
    "clavs4 = []\n",
    "clavs5 = []\n",
    "for i in range(27):\n",
    "    clavs1.append(i)\n",
    "    clavs2.append(i)\n",
    "    clavs3.append(i)\n",
    "    clavs4.append(i)\n",
    "    clavs5.append(i)"
   ]
  },
  {
   "cell_type": "code",
   "execution_count": 20,
   "metadata": {},
   "outputs": [],
   "source": [
    "for i in range(27):\n",
    "    for j in range(5):\n",
    "        if Total['Semana '+str(i+1)+\"\"][2][j][0] == 'político':\n",
    "            clavs1[i] = Total['Semana '+str(i+1)+\"\"][2][j][1]       \n",
    "        if Total['Semana '+str(i+1)+\"\"][2][j][0] == 'cultura':\n",
    "                clavs2[i] = Total['Semana '+str(i+1)+\"\"][2][j][1]\n",
    "        if Total['Semana '+str(i+1)+\"\"][2][j][0] == 'Problema-Social':\n",
    "                clavs3[i] = Total['Semana '+str(i+1)+\"\"][2][j][1]           \n",
    "        if Total['Semana '+str(i+1)+\"\"][2][j][0] == 'naturaleza':\n",
    "                clavs4[i] = Total['Semana '+str(i+1)+\"\"][2][j][1]\n",
    "        if Total['Semana '+str(i+1)+\"\"][2][j][0] == 'narcotrafico':\n",
    "                clavs5[i] = Total['Semana '+str(i+1)+\"\"][2][j][1]"
   ]
  },
  {
   "cell_type": "code",
   "execution_count": 21,
   "metadata": {},
   "outputs": [],
   "source": [
    "for i in range(27):\n",
    "    if clavs1[i] <= 26:\n",
    "        clavs1[i] = 0"
   ]
  },
  {
   "cell_type": "code",
   "execution_count": 22,
   "metadata": {},
   "outputs": [],
   "source": [
    "for i in range(27):\n",
    "    if clavs2[i] <= 26:\n",
    "        clavs2[i] = 0\n",
    "for i in range(27):\n",
    "    if clavs3[i] <= 26:\n",
    "        clavs3[i] = 0\n",
    "for i in range(27):\n",
    "    if clavs4[i] <= 26:\n",
    "        clavs4[i] = 0\n",
    "for i in range(27):\n",
    "    if clavs5[i] <= 26:\n",
    "        clavs5[i] = 0"
   ]
  },
  {
   "cell_type": "code",
   "execution_count": 23,
   "metadata": {},
   "outputs": [
    {
     "data": {
      "text/plain": [
       "[('Problema-Social', 235),\n",
       " ('político', 171),\n",
       " ('naturaleza', 89),\n",
       " ('cultura', 60),\n",
       " ('https', 58),\n",
       " ('política', 50),\n",
       " ('años', 50),\n",
       " ('momento', 38),\n",
       " ('padre', 38),\n",
       " ('trabajo', 37)]"
      ]
     },
     "execution_count": 23,
     "metadata": {},
     "output_type": "execute_result"
    }
   ],
   "source": [
    "claves2"
   ]
  },
  {
   "cell_type": "code",
   "execution_count": 24,
   "metadata": {},
   "outputs": [],
   "source": [
    "df['Politica'] = clavs1\n",
    "df['Cultura'] = clavs2\n",
    "df['Problema-Social'] = clavs3\n",
    "df['Naturalez'] = clavs4\n",
    "df['Narcotrafico'] = clavs5"
   ]
  },
  {
   "cell_type": "code",
   "execution_count": 25,
   "metadata": {},
   "outputs": [],
   "source": [
    "Div = pd.read_csv(\"EUR-USD Jul-Dic2019.csv\", sep = \",\")\n",
    "Div['Date'] = pd.to_datetime(Div['Date'])\n",
    "Div.index = Div['Date']"
   ]
  },
  {
   "cell_type": "code",
   "execution_count": 26,
   "metadata": {},
   "outputs": [],
   "source": [
    "Div = Div.resample(\"W\").mean()"
   ]
  },
  {
   "cell_type": "code",
   "execution_count": 27,
   "metadata": {},
   "outputs": [],
   "source": [
    "df['Price EUR-USD'] = Div['Price'].tolist()"
   ]
  },
  {
   "cell_type": "code",
   "execution_count": 45,
   "metadata": {},
   "outputs": [],
   "source": [
    "df = df[['Semana','Fecha Inicio', 'Fecha Fin', 'Politica', 'Cultura','Problema-Social', 'Price EUR-USD']]"
   ]
  },
  {
   "cell_type": "code",
   "execution_count": 46,
   "metadata": {},
   "outputs": [],
   "source": [
    "df.to_csv(\"PruebaF21.csv\")"
   ]
  },
  {
   "cell_type": "code",
   "execution_count": 48,
   "metadata": {},
   "outputs": [
    {
     "data": {
      "text/html": [
       "<div>\n",
       "<style scoped>\n",
       "    .dataframe tbody tr th:only-of-type {\n",
       "        vertical-align: middle;\n",
       "    }\n",
       "\n",
       "    .dataframe tbody tr th {\n",
       "        vertical-align: top;\n",
       "    }\n",
       "\n",
       "    .dataframe thead th {\n",
       "        text-align: right;\n",
       "    }\n",
       "</style>\n",
       "<table border=\"1\" class=\"dataframe\">\n",
       "  <thead>\n",
       "    <tr style=\"text-align: right;\">\n",
       "      <th></th>\n",
       "      <th>Semana</th>\n",
       "      <th>Fecha Inicio</th>\n",
       "      <th>Fecha Fin</th>\n",
       "      <th>Politica</th>\n",
       "      <th>Cultura</th>\n",
       "      <th>Problema-Social</th>\n",
       "      <th>Price EUR-USD</th>\n",
       "    </tr>\n",
       "  </thead>\n",
       "  <tbody>\n",
       "    <tr>\n",
       "      <td>0</td>\n",
       "      <td>Semana 1</td>\n",
       "      <td>2019-07-01</td>\n",
       "      <td>2019-07-08</td>\n",
       "      <td>158</td>\n",
       "      <td>278</td>\n",
       "      <td>114</td>\n",
       "      <td>1.12718</td>\n",
       "    </tr>\n",
       "    <tr>\n",
       "      <td>1</td>\n",
       "      <td>Semana 2</td>\n",
       "      <td>2019-07-08</td>\n",
       "      <td>2019-07-15</td>\n",
       "      <td>171</td>\n",
       "      <td>60</td>\n",
       "      <td>235</td>\n",
       "      <td>1.12398</td>\n",
       "    </tr>\n",
       "    <tr>\n",
       "      <td>2</td>\n",
       "      <td>Semana 3</td>\n",
       "      <td>2019-07-15</td>\n",
       "      <td>2019-07-22</td>\n",
       "      <td>194</td>\n",
       "      <td>178</td>\n",
       "      <td>130</td>\n",
       "      <td>1.12384</td>\n",
       "    </tr>\n",
       "    <tr>\n",
       "      <td>3</td>\n",
       "      <td>Semana 4</td>\n",
       "      <td>2019-07-22</td>\n",
       "      <td>2019-07-29</td>\n",
       "      <td>203</td>\n",
       "      <td>71</td>\n",
       "      <td>193</td>\n",
       "      <td>1.11556</td>\n",
       "    </tr>\n",
       "    <tr>\n",
       "      <td>4</td>\n",
       "      <td>Semana 5</td>\n",
       "      <td>2019-07-29</td>\n",
       "      <td>2019-08-05</td>\n",
       "      <td>278</td>\n",
       "      <td>0</td>\n",
       "      <td>213</td>\n",
       "      <td>1.11138</td>\n",
       "    </tr>\n",
       "    <tr>\n",
       "      <td>5</td>\n",
       "      <td>Semana 6</td>\n",
       "      <td>2019-08-05</td>\n",
       "      <td>2019-08-12</td>\n",
       "      <td>221</td>\n",
       "      <td>0</td>\n",
       "      <td>408</td>\n",
       "      <td>1.11962</td>\n",
       "    </tr>\n",
       "    <tr>\n",
       "      <td>6</td>\n",
       "      <td>Semana 7</td>\n",
       "      <td>2019-08-12</td>\n",
       "      <td>2019-08-19</td>\n",
       "      <td>166</td>\n",
       "      <td>0</td>\n",
       "      <td>279</td>\n",
       "      <td>1.11442</td>\n",
       "    </tr>\n",
       "    <tr>\n",
       "      <td>7</td>\n",
       "      <td>Semana 8</td>\n",
       "      <td>2019-08-19</td>\n",
       "      <td>2019-08-26</td>\n",
       "      <td>147</td>\n",
       "      <td>0</td>\n",
       "      <td>169</td>\n",
       "      <td>1.10972</td>\n",
       "    </tr>\n",
       "    <tr>\n",
       "      <td>8</td>\n",
       "      <td>Semana 9</td>\n",
       "      <td>2019-08-26</td>\n",
       "      <td>2019-09-02</td>\n",
       "      <td>97</td>\n",
       "      <td>0</td>\n",
       "      <td>119</td>\n",
       "      <td>1.10638</td>\n",
       "    </tr>\n",
       "    <tr>\n",
       "      <td>9</td>\n",
       "      <td>Semana 10</td>\n",
       "      <td>2019-09-02</td>\n",
       "      <td>2019-09-09</td>\n",
       "      <td>96</td>\n",
       "      <td>70</td>\n",
       "      <td>132</td>\n",
       "      <td>1.10082</td>\n",
       "    </tr>\n",
       "    <tr>\n",
       "      <td>10</td>\n",
       "      <td>Semana 11</td>\n",
       "      <td>2019-09-09</td>\n",
       "      <td>2019-09-16</td>\n",
       "      <td>113</td>\n",
       "      <td>0</td>\n",
       "      <td>0</td>\n",
       "      <td>1.10478</td>\n",
       "    </tr>\n",
       "    <tr>\n",
       "      <td>11</td>\n",
       "      <td>Semana 12</td>\n",
       "      <td>2019-09-16</td>\n",
       "      <td>2019-09-23</td>\n",
       "      <td>69</td>\n",
       "      <td>0</td>\n",
       "      <td>62</td>\n",
       "      <td>1.10328</td>\n",
       "    </tr>\n",
       "    <tr>\n",
       "      <td>12</td>\n",
       "      <td>Semana 13</td>\n",
       "      <td>2019-09-23</td>\n",
       "      <td>2019-09-30</td>\n",
       "      <td>280</td>\n",
       "      <td>76</td>\n",
       "      <td>79</td>\n",
       "      <td>1.09634</td>\n",
       "    </tr>\n",
       "    <tr>\n",
       "      <td>13</td>\n",
       "      <td>Semana 14</td>\n",
       "      <td>2019-09-30</td>\n",
       "      <td>2019-10-07</td>\n",
       "      <td>183</td>\n",
       "      <td>199</td>\n",
       "      <td>154</td>\n",
       "      <td>1.09470</td>\n",
       "    </tr>\n",
       "    <tr>\n",
       "      <td>14</td>\n",
       "      <td>Semana 15</td>\n",
       "      <td>2019-10-07</td>\n",
       "      <td>2019-10-14</td>\n",
       "      <td>161</td>\n",
       "      <td>192</td>\n",
       "      <td>182</td>\n",
       "      <td>1.09892</td>\n",
       "    </tr>\n",
       "    <tr>\n",
       "      <td>15</td>\n",
       "      <td>Semana 16</td>\n",
       "      <td>2019-10-14</td>\n",
       "      <td>2019-10-21</td>\n",
       "      <td>181</td>\n",
       "      <td>59</td>\n",
       "      <td>113</td>\n",
       "      <td>1.10858</td>\n",
       "    </tr>\n",
       "    <tr>\n",
       "      <td>16</td>\n",
       "      <td>Semana 17</td>\n",
       "      <td>2019-10-21</td>\n",
       "      <td>2019-10-28</td>\n",
       "      <td>187</td>\n",
       "      <td>52</td>\n",
       "      <td>193</td>\n",
       "      <td>1.11178</td>\n",
       "    </tr>\n",
       "    <tr>\n",
       "      <td>17</td>\n",
       "      <td>Semana 18</td>\n",
       "      <td>2019-10-28</td>\n",
       "      <td>2019-11-04</td>\n",
       "      <td>182</td>\n",
       "      <td>0</td>\n",
       "      <td>120</td>\n",
       "      <td>1.11362</td>\n",
       "    </tr>\n",
       "    <tr>\n",
       "      <td>18</td>\n",
       "      <td>Semana 19</td>\n",
       "      <td>2019-11-04</td>\n",
       "      <td>2019-11-11</td>\n",
       "      <td>150</td>\n",
       "      <td>0</td>\n",
       "      <td>195</td>\n",
       "      <td>1.10676</td>\n",
       "    </tr>\n",
       "    <tr>\n",
       "      <td>19</td>\n",
       "      <td>Semana 20</td>\n",
       "      <td>2019-11-11</td>\n",
       "      <td>2019-11-18</td>\n",
       "      <td>190</td>\n",
       "      <td>0</td>\n",
       "      <td>187</td>\n",
       "      <td>1.10248</td>\n",
       "    </tr>\n",
       "    <tr>\n",
       "      <td>20</td>\n",
       "      <td>Semana 21</td>\n",
       "      <td>2019-11-18</td>\n",
       "      <td>2019-11-25</td>\n",
       "      <td>139</td>\n",
       "      <td>50</td>\n",
       "      <td>170</td>\n",
       "      <td>1.10614</td>\n",
       "    </tr>\n",
       "    <tr>\n",
       "      <td>21</td>\n",
       "      <td>Semana 22</td>\n",
       "      <td>2019-11-25</td>\n",
       "      <td>2019-12-02</td>\n",
       "      <td>150</td>\n",
       "      <td>0</td>\n",
       "      <td>131</td>\n",
       "      <td>1.10118</td>\n",
       "    </tr>\n",
       "    <tr>\n",
       "      <td>22</td>\n",
       "      <td>Semana 23</td>\n",
       "      <td>2019-12-02</td>\n",
       "      <td>2019-12-09</td>\n",
       "      <td>188</td>\n",
       "      <td>37</td>\n",
       "      <td>123</td>\n",
       "      <td>1.10806</td>\n",
       "    </tr>\n",
       "    <tr>\n",
       "      <td>23</td>\n",
       "      <td>Semana 24</td>\n",
       "      <td>2019-12-09</td>\n",
       "      <td>2019-12-16</td>\n",
       "      <td>217</td>\n",
       "      <td>80</td>\n",
       "      <td>135</td>\n",
       "      <td>1.11076</td>\n",
       "    </tr>\n",
       "    <tr>\n",
       "      <td>24</td>\n",
       "      <td>Semana 25</td>\n",
       "      <td>2019-12-16</td>\n",
       "      <td>2019-12-23</td>\n",
       "      <td>344</td>\n",
       "      <td>105</td>\n",
       "      <td>85</td>\n",
       "      <td>1.11216</td>\n",
       "    </tr>\n",
       "    <tr>\n",
       "      <td>25</td>\n",
       "      <td>Semana 26</td>\n",
       "      <td>2019-12-23</td>\n",
       "      <td>2019-12-30</td>\n",
       "      <td>42</td>\n",
       "      <td>254</td>\n",
       "      <td>69</td>\n",
       "      <td>1.11084</td>\n",
       "    </tr>\n",
       "    <tr>\n",
       "      <td>26</td>\n",
       "      <td>Semana 27</td>\n",
       "      <td>2019-12-30</td>\n",
       "      <td>2020-01-06</td>\n",
       "      <td>38</td>\n",
       "      <td>0</td>\n",
       "      <td>0</td>\n",
       "      <td>1.12055</td>\n",
       "    </tr>\n",
       "  </tbody>\n",
       "</table>\n",
       "</div>"
      ],
      "text/plain": [
       "       Semana Fecha Inicio  Fecha Fin  Politica  Cultura  Problema-Social  \\\n",
       "0    Semana 1   2019-07-01 2019-07-08       158      278              114   \n",
       "1    Semana 2   2019-07-08 2019-07-15       171       60              235   \n",
       "2    Semana 3   2019-07-15 2019-07-22       194      178              130   \n",
       "3    Semana 4   2019-07-22 2019-07-29       203       71              193   \n",
       "4    Semana 5   2019-07-29 2019-08-05       278        0              213   \n",
       "5    Semana 6   2019-08-05 2019-08-12       221        0              408   \n",
       "6    Semana 7   2019-08-12 2019-08-19       166        0              279   \n",
       "7    Semana 8   2019-08-19 2019-08-26       147        0              169   \n",
       "8    Semana 9   2019-08-26 2019-09-02        97        0              119   \n",
       "9   Semana 10   2019-09-02 2019-09-09        96       70              132   \n",
       "10  Semana 11   2019-09-09 2019-09-16       113        0                0   \n",
       "11  Semana 12   2019-09-16 2019-09-23        69        0               62   \n",
       "12  Semana 13   2019-09-23 2019-09-30       280       76               79   \n",
       "13  Semana 14   2019-09-30 2019-10-07       183      199              154   \n",
       "14  Semana 15   2019-10-07 2019-10-14       161      192              182   \n",
       "15  Semana 16   2019-10-14 2019-10-21       181       59              113   \n",
       "16  Semana 17   2019-10-21 2019-10-28       187       52              193   \n",
       "17  Semana 18   2019-10-28 2019-11-04       182        0              120   \n",
       "18  Semana 19   2019-11-04 2019-11-11       150        0              195   \n",
       "19  Semana 20   2019-11-11 2019-11-18       190        0              187   \n",
       "20  Semana 21   2019-11-18 2019-11-25       139       50              170   \n",
       "21  Semana 22   2019-11-25 2019-12-02       150        0              131   \n",
       "22  Semana 23   2019-12-02 2019-12-09       188       37              123   \n",
       "23  Semana 24   2019-12-09 2019-12-16       217       80              135   \n",
       "24  Semana 25   2019-12-16 2019-12-23       344      105               85   \n",
       "25  Semana 26   2019-12-23 2019-12-30        42      254               69   \n",
       "26  Semana 27   2019-12-30 2020-01-06        38        0                0   \n",
       "\n",
       "    Price EUR-USD  \n",
       "0         1.12718  \n",
       "1         1.12398  \n",
       "2         1.12384  \n",
       "3         1.11556  \n",
       "4         1.11138  \n",
       "5         1.11962  \n",
       "6         1.11442  \n",
       "7         1.10972  \n",
       "8         1.10638  \n",
       "9         1.10082  \n",
       "10        1.10478  \n",
       "11        1.10328  \n",
       "12        1.09634  \n",
       "13        1.09470  \n",
       "14        1.09892  \n",
       "15        1.10858  \n",
       "16        1.11178  \n",
       "17        1.11362  \n",
       "18        1.10676  \n",
       "19        1.10248  \n",
       "20        1.10614  \n",
       "21        1.10118  \n",
       "22        1.10806  \n",
       "23        1.11076  \n",
       "24        1.11216  \n",
       "25        1.11084  \n",
       "26        1.12055  "
      ]
     },
     "execution_count": 48,
     "metadata": {},
     "output_type": "execute_result"
    }
   ],
   "source": [
    "df"
   ]
  },
  {
   "cell_type": "code",
   "execution_count": 47,
   "metadata": {},
   "outputs": [
    {
     "data": {
      "text/html": [
       "<div>\n",
       "<style scoped>\n",
       "    .dataframe tbody tr th:only-of-type {\n",
       "        vertical-align: middle;\n",
       "    }\n",
       "\n",
       "    .dataframe tbody tr th {\n",
       "        vertical-align: top;\n",
       "    }\n",
       "\n",
       "    .dataframe thead th {\n",
       "        text-align: right;\n",
       "    }\n",
       "</style>\n",
       "<table border=\"1\" class=\"dataframe\">\n",
       "  <thead>\n",
       "    <tr style=\"text-align: right;\">\n",
       "      <th></th>\n",
       "      <th>Politica</th>\n",
       "      <th>Cultura</th>\n",
       "      <th>Problema-Social</th>\n",
       "      <th>Price EUR-USD</th>\n",
       "    </tr>\n",
       "  </thead>\n",
       "  <tbody>\n",
       "    <tr>\n",
       "      <td>Politica</td>\n",
       "      <td>1.000000</td>\n",
       "      <td>0.003216</td>\n",
       "      <td>0.342294</td>\n",
       "      <td>0.026974</td>\n",
       "    </tr>\n",
       "    <tr>\n",
       "      <td>Cultura</td>\n",
       "      <td>0.003216</td>\n",
       "      <td>1.000000</td>\n",
       "      <td>-0.165272</td>\n",
       "      <td>0.124025</td>\n",
       "    </tr>\n",
       "    <tr>\n",
       "      <td>Problema-Social</td>\n",
       "      <td>0.342294</td>\n",
       "      <td>-0.165272</td>\n",
       "      <td>1.000000</td>\n",
       "      <td>0.209635</td>\n",
       "    </tr>\n",
       "    <tr>\n",
       "      <td>Price EUR-USD</td>\n",
       "      <td>0.026974</td>\n",
       "      <td>0.124025</td>\n",
       "      <td>0.209635</td>\n",
       "      <td>1.000000</td>\n",
       "    </tr>\n",
       "  </tbody>\n",
       "</table>\n",
       "</div>"
      ],
      "text/plain": [
       "                 Politica   Cultura  Problema-Social  Price EUR-USD\n",
       "Politica         1.000000  0.003216         0.342294       0.026974\n",
       "Cultura          0.003216  1.000000        -0.165272       0.124025\n",
       "Problema-Social  0.342294 -0.165272         1.000000       0.209635\n",
       "Price EUR-USD    0.026974  0.124025         0.209635       1.000000"
      ]
     },
     "execution_count": 47,
     "metadata": {},
     "output_type": "execute_result"
    }
   ],
   "source": [
    "df.corr(method='pearson')"
   ]
  },
  {
   "cell_type": "code",
   "execution_count": 49,
   "metadata": {},
   "outputs": [],
   "source": [
    "import matplotlib.pyplot as plt"
   ]
  },
  {
   "cell_type": "code",
   "execution_count": 50,
   "metadata": {},
   "outputs": [
    {
     "data": {
      "text/plain": [
       "<matplotlib.image.AxesImage at 0x1d2ac548688>"
      ]
     },
     "execution_count": 50,
     "metadata": {},
     "output_type": "execute_result"
    },
    {
     "data": {
      "image/png": "[encoded data removed]",
      "text/plain": [
       "<Figure size 288x288 with 1 Axes>"
      ]
     },
     "metadata": {
      "needs_background": "light"
     },
     "output_type": "display_data"
    }
   ],
   "source": [
    "plt.matshow(df.corr())"
   ]
  },
  {
   "cell_type": "code",
   "execution_count": 35,
   "metadata": {},
   "outputs": [
    {
     "data": {
      "text/plain": [
       "Text(0.5, 0, 'Politica')"
      ]
     },
     "execution_count": 35,
     "metadata": {},
     "output_type": "execute_result"
    },
    {
     "data": {
      "image/png": "[encoded data removed]",
      "text/plain": [
       "<Figure size 432x288 with 1 Axes>"
      ]
     },
     "metadata": {
      "needs_background": "light"
     },
     "output_type": "display_data"
    }
   ],
   "source": [
    "plt.plot(df['Politica'], df['Price EUR-USD'], 'ro')\n",
    "plt.ylabel('Price EUR-USD')\n",
    "plt.xlabel('Politica')"
   ]
  },
  {
   "cell_type": "code",
   "execution_count": 36,
   "metadata": {},
   "outputs": [
    {
     "data": {
      "text/plain": [
       "Text(0.5, 0, 'Cultura')"
      ]
     },
     "execution_count": 36,
     "metadata": {},
     "output_type": "execute_result"
    },
    {
     "data": {
      "image/png": "[encoded data removed]",
      "text/plain": [
       "<Figure size 432x288 with 1 Axes>"
      ]
     },
     "metadata": {
      "needs_background": "light"
     },
     "output_type": "display_data"
    }
   ],
   "source": [
    "plt.plot(df['Cultura'], df['Price EUR-USD'], 'ro')\n",
    "plt.ylabel('Price EUR-USD')\n",
    "plt.xlabel('Cultura')"
   ]
  },
  {
   "cell_type": "code",
   "execution_count": 37,
   "metadata": {},
   "outputs": [
    {
     "data": {
      "text/plain": [
       "Text(0.5, 0, 'Problema-Social')"
      ]
     },
     "execution_count": 37,
     "metadata": {},
     "output_type": "execute_result"
    },
    {
     "data": {
      "image/png": "[encoded data removed]",
      "text/plain": [
       "<Figure size 432x288 with 1 Axes>"
      ]
     },
     "metadata": {
      "needs_background": "light"
     },
     "output_type": "display_data"
    }
   ],
   "source": [
    "plt.plot(df['Problema-Social'], df['Price EUR-USD'], 'ro')\n",
    "plt.ylabel('Price EUR-USD')\n",
    "plt.xlabel('Problema-Social')"
   ]
  },
  {
   "cell_type": "code",
   "execution_count": 215,
   "metadata": {},
   "outputs": [],
   "source": [
    "Semana18= Semana18.drop(Semana18[pd.isnull(Semana18['Text'])].index)"
   ]
  },
  {
   "cell_type": "code",
   "execution_count": 216,
   "metadata": {},
   "outputs": [
    {
     "data": {
      "text/html": [
       "<div>\n",
       "<style scoped>\n",
       "    .dataframe tbody tr th:only-of-type {\n",
       "        vertical-align: middle;\n",
       "    }\n",
       "\n",
       "    .dataframe tbody tr th {\n",
       "        vertical-align: top;\n",
       "    }\n",
       "\n",
       "    .dataframe thead th {\n",
       "        text-align: right;\n",
       "    }\n",
       "</style>\n",
       "<table border=\"1\" class=\"dataframe\">\n",
       "  <thead>\n",
       "    <tr style=\"text-align: right;\">\n",
       "      <th></th>\n",
       "      <th>Date</th>\n",
       "      <th>Text</th>\n",
       "    </tr>\n",
       "  </thead>\n",
       "  <tbody>\n",
       "    <tr>\n",
       "      <td>1</td>\n",
       "      <td>2019-10-28 00:10:03</td>\n",
       "      <td>Regístrate aquí para recibir nuestro boletín d...</td>\n",
       "    </tr>\n",
       "    <tr>\n",
       "      <td>2</td>\n",
       "      <td>2019-10-28 00:10:33</td>\n",
       "      <td>ATENCIÓN #ArgentinaVoto2019 Los primeros resul...</td>\n",
       "    </tr>\n",
       "    <tr>\n",
       "      <td>3</td>\n",
       "      <td>2019-10-28 00:21:17</td>\n",
       "      <td>Claudia López no solo es la primera mujer que ...</td>\n",
       "    </tr>\n",
       "    <tr>\n",
       "      <td>4</td>\n",
       "      <td>2019-10-28 00:24:50</td>\n",
       "      <td>Elecciones en Argentina: Fernández lidera las ...</td>\n",
       "    </tr>\n",
       "    <tr>\n",
       "      <td>5</td>\n",
       "      <td>2019-10-28 00:30:09</td>\n",
       "      <td>El hombre gana un premio de lotería de US$200....</td>\n",
       "    </tr>\n",
       "    <tr>\n",
       "      <td>...</td>\n",
       "      <td>...</td>\n",
       "      <td>...</td>\n",
       "    </tr>\n",
       "    <tr>\n",
       "      <td>1909</td>\n",
       "      <td>2019-11-03 23:34:29</td>\n",
       "      <td>¿Qué es el síndrome Ehlers-Danlos? Te lo expli...</td>\n",
       "    </tr>\n",
       "    <tr>\n",
       "      <td>1910</td>\n",
       "      <td>2019-11-03 23:35:02</td>\n",
       "      <td>Los mitos sobre las diferencias en el cerebro ...</td>\n",
       "    </tr>\n",
       "    <tr>\n",
       "      <td>1911</td>\n",
       "      <td>2019-11-03 23:46:03</td>\n",
       "      <td>Un monje de hace 400 años que sigue rezando; u...</td>\n",
       "    </tr>\n",
       "    <tr>\n",
       "      <td>1912</td>\n",
       "      <td>2019-11-03 23:55:06</td>\n",
       "      <td>Steve Easterbrook, quien fue nombrado CEO en 2...</td>\n",
       "    </tr>\n",
       "    <tr>\n",
       "      <td>1913</td>\n",
       "      <td>2019-11-03 23:59:10</td>\n",
       "      <td>Edwin Aguilar ha dibujado a \"The Simpsons\", a ...</td>\n",
       "    </tr>\n",
       "  </tbody>\n",
       "</table>\n",
       "<p>1554 rows × 2 columns</p>\n",
       "</div>"
      ],
      "text/plain": [
       "                    Date                                               Text\n",
       "1    2019-10-28 00:10:03  Regístrate aquí para recibir nuestro boletín d...\n",
       "2    2019-10-28 00:10:33  ATENCIÓN #ArgentinaVoto2019 Los primeros resul...\n",
       "3    2019-10-28 00:21:17  Claudia López no solo es la primera mujer que ...\n",
       "4    2019-10-28 00:24:50  Elecciones en Argentina: Fernández lidera las ...\n",
       "5    2019-10-28 00:30:09  El hombre gana un premio de lotería de US$200....\n",
       "...                  ...                                                ...\n",
       "1909 2019-11-03 23:34:29  ¿Qué es el síndrome Ehlers-Danlos? Te lo expli...\n",
       "1910 2019-11-03 23:35:02  Los mitos sobre las diferencias en el cerebro ...\n",
       "1911 2019-11-03 23:46:03  Un monje de hace 400 años que sigue rezando; u...\n",
       "1912 2019-11-03 23:55:06  Steve Easterbrook, quien fue nombrado CEO en 2...\n",
       "1913 2019-11-03 23:59:10  Edwin Aguilar ha dibujado a \"The Simpsons\", a ...\n",
       "\n",
       "[1554 rows x 2 columns]"
      ]
     },
     "execution_count": 216,
     "metadata": {},
     "output_type": "execute_result"
    }
   ],
   "source": [
    "Semana18.drop_duplicates(['Text'], keep='last')"
   ]
  },
  {
   "cell_type": "code",
   "execution_count": 220,
   "metadata": {},
   "outputs": [],
   "source": [
    "analisis1 = Semana18[Semana18['Text'].str.contains('Fernández')]"
   ]
  },
  {
   "cell_type": "code",
   "execution_count": 221,
   "metadata": {},
   "outputs": [
    {
     "data": {
      "text/plain": [
       "['ATENCIÓN #ArgentinaVoto2019 Los primeros resultados dan como ganador a Alberto Fernández con una diferencia menor de la anticipada, pero que le darían el triunfo en primera vuelta a Fernández. https://cnn.it/2MS7gO1',\n",
       " 'Elecciones en Argentina: Fernández lidera las elecciones en Argentina y se impone en primera vuelta a la fórmula de Macri',\n",
       " 'ÚLTIMA HORA Alberto Fernández, virtual ganador la elección presidencial en Argentina en primera vuelta https://cnn.it/2NgMjvp',\n",
       " 'Fernández, virtual ganador',\n",
       " 'Macri felicitó a Fernández y lo invitó a desayunar https://cnn.it/364I9zj ¿Qué opinas del gesto y del discurso del actual mandatario tras la derrota?',\n",
       " '\"Vamos a construir la Argentina igualitaria y solidaria que todos soñamos\", dijo Alberto Fernández tras el triunfo de las elecciones presidenciales en Argentina.',\n",
       " 'Fernández: \"Vamos a ser la Argentina que merecemos ser\".',\n",
       " 'La fórmula peronista Alberto Fernández-Cristina Kirchner se impone en primera vuelta en las elecciones presidenciales de Argentina',\n",
       " '5 cosas 28 de octubre: Fernández, virtual ganador la elección presidencial en Argentina; la NASA publica foto del Sol en la que parece una calabaza de Halloween. Se lanza Apple TV+ y otros. Esto es lo que necesitas saber para comenzar el día',\n",
       " '5 cosas 28 de octubre: Fernández, virtual ganador la elección presidencial en Argentina; la NASA publica foto del Sol en la que parece una calabaza de Halloween. Se lanza Apple TV+ y otros. Esto es lo que necesitas saber para comenzar el día',\n",
       " 'La fórmula peronista Alberto Fernández-Cristina Kirchner se impone en primera vuelta en las elecciones presidenciales de Argentina',\n",
       " 'El peronismo volvió al poder en Argentina: la victoria en las elecciones de Alberto Fernández marca un nuevo capítulo para este movimiento que ha dominado la política argentina por 70 años. ¿Por qué es tan poderoso? Te lo contamos en este video:',\n",
       " 'Así agradeció Fernández su victoria en Argentina',\n",
       " 'La fórmula peronista Alberto Fernández-Cristina Kirchner se impone en primera vuelta en las elecciones presidenciales de Argentina',\n",
       " 'La fórmula peronista Alberto Fernández-Cristina Kirchner se impone en primera vuelta en las elecciones presidenciales de Argentina',\n",
       " 'El peronismo volvió al poder en Argentina: la victoria en las elecciones de Alberto Fernández marca un nuevo capítulo para este movimiento que ha dominado la política argentina por 70 años. ¿Por qué es tan poderoso? Te lo contamos en este video: https://bbc.in/2MTzdFh',\n",
       " 'Siete datos que te sorprenderán de Alberto Fernández, presidente electo de Argentina: Fernández es abogado, melómano, hincha de Argentinos Juniors y su perro es una estrella de las redes sociales',\n",
       " 'El peronismo volvió al poder en Argentina: la victoria en las elecciones de Alberto Fernández marca un nuevo capítulo para este movimiento que ha dominado la política argentina por 70 años. ¿Por qué es tan poderoso? Te lo contamos en este video:',\n",
       " 'El presidente electo de Argentina, Alberto Fernández, prometió un Gobierno con más beneficios para los trabajadores',\n",
       " 'Siete datos que te sorprenderán de Alberto Fernández, presidente electo de Argentina: Fernández es abogado, melómano, hincha de Argentinos Juniors y su perro es una estrella de las redes sociales',\n",
       " 'Alberto Fernández superó al actual presidente Mauricio Macri, quien deberá dejar el poder el 10 de diciembre. Así fue la reunión de este lunes entre el mandatario saliente y el entrante.',\n",
       " 'Bolsonaro dijo que no felicitará a Alberto Fernández.',\n",
       " 'Cristina Fernández \"tenía la llave de la unidad peronista, porque ella era el factor divisorio\", y \"decidió que había que usar esa llave y lo hizo de una manera muy oportuna, muy inteligente, incluso muy generosa\"',\n",
       " 'Alberto Fernández gana la elecciones en Argentina: los 5 desafíos económicos que enfrenta el presidente electo',\n",
       " 'A Alberto Fernández la fiesta le duró poco...',\n",
       " 'A Alberto Fernández la fiesta le duró poco...',\n",
       " 'Como candidato, Alberto Fernández acusó al FMI de tener parte de la culpa por la crisis económica en Argentina.',\n",
       " '¿Qué 5 desafíos económicos enfrenta Alberto Fernández, el presidente electo de Argetina?',\n",
       " '\"Ha abandonado Fernández la tradición de que los presidentes argentinos van primero a Brasil\", afirma Andrés Cisneros https://cnn.it/2NyiBlu Mira \\'En diálogo con Longobardi\\' el domingo',\n",
       " '¿Podrá Alberto Fernández resolver estos problemas, que sumieron a la segunda economía de Sudamérica en una profunda crisis?',\n",
       " '\"Ha abandonado Fernández la tradición de que los presidentes argentinos van primero a Brasil\", afirma Andrés Cisneros https://cnn.it/36mNSkd Mira \\'En diálogo con Longobardi\\' este domingo a las 9 P.M., hora de Miami.',\n",
       " '¿Cuál fue el camino del exjefe de Gabinete, desde su alianza con Cristina Fernández de Kirchner hasta su triunfo? ¿Cómo fue su relación con el actual presidente, Mauricio Macri? Te lo explicamos con dibujos en un minuto.',\n",
       " '¿Podrá Alberto Fernández resolver estos problemas, que sumieron a la segunda economía de Sudamérica en una profunda crisis?',\n",
       " 'Este fue el camino que recorrió Alberto Fernández hasta llegar a ser presidente electo de Argentina',\n",
       " '\"Ha abandonado Fernández la tradición de que los presidentes argentinos van primero a Brasil\", afirma Andrés Cisneros https://cnn.it/33aEdLt Mira \\'En diálogo con Longobardi\\' este domingo a las 9 P.M., hora de Miami.',\n",
       " 'Bolsonaro es reconocido como un crítico del kirchnerismo y cuando Fernández ganó dijo que Argentina \"eligió mal\"',\n",
       " '¿Cómo llegó Alberto Fernández a ser presidente electo? Te lo explicamos en un minuto https://cnn.it/33egjii',\n",
       " 'Hoy en Mirador Mundial, @RafaelRomoCNN reporta sobre la expulsión de diplomáticos en El Salvador y Venezuela, la muerte de Walter Mercado y la visita de Alberto Fernández a México. Participa con #MiradorBukele, #MiradorWalter y #MiradorFernándezMX']"
      ]
     },
     "execution_count": 221,
     "metadata": {},
     "output_type": "execute_result"
    }
   ],
   "source": [
    "analisis1['Text'].tolist()"
   ]
  },
  {
   "cell_type": "code",
   "execution_count": 240,
   "metadata": {},
   "outputs": [],
   "source": [
    "analisis1.to_csv(\"A2.csv\")"
   ]
  },
  {
   "cell_type": "code",
   "execution_count": 34,
   "metadata": {},
   "outputs": [
    {
     "data": {
      "text/plain": [
       "1.0947"
      ]
     },
     "execution_count": 34,
     "metadata": {},
     "output_type": "execute_result"
    }
   ],
   "source": [
    "df['Price EUR-USD'].min()"
   ]
  },
  {
   "cell_type": "code",
   "execution_count": 35,
   "metadata": {},
   "outputs": [
    {
     "data": {
      "text/plain": [
       "1.12718"
      ]
     },
     "execution_count": 35,
     "metadata": {},
     "output_type": "execute_result"
    }
   ],
   "source": [
    "df['Price EUR-USD'].max()"
   ]
  },
  {
   "cell_type": "code",
   "execution_count": null,
   "metadata": {},
   "outputs": [],
   "source": []
  }
 ],
 "metadata": {
  "kernelspec": {
   "display_name": "Python 3",
   "language": "python",
   "name": "python3"
  },
  "language_info": {
   "codemirror_mode": {
    "name": "ipython",
    "version": 3
   },
   "file_extension": ".py",
   "mimetype": "text/x-python",
   "name": "python",
   "nbconvert_exporter": "python",
   "pygments_lexer": "ipython3",
   "version": "3.7.4"
  }
 },
 "nbformat": 4,
 "nbformat_minor": 2
}

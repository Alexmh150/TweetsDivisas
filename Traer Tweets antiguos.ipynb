{
 "cells": [
  {
   "cell_type": "code",
   "execution_count": 8,
   "metadata": {},
   "outputs": [],
   "source": [
    "#importar librerias\n",
    "import GetOldTweets3 as got\n",
    "import pandas as pd\n",
    "\n",
    "#funcion para recupear tweets\n",
    "def get_tweets(username, top_only, start_date, end_date, max_tweets):\n",
    "   \n",
    "    #Criterios de busqueda de los tweets\n",
    "    tweetCriteria = got.manager.TweetCriteria().setUsername(username)\\\n",
    "                          .setSince(start_date)\\\n",
    "                          .setUntil(end_date)\\\n",
    "                          .setMaxTweets(max_tweets)\n",
    "    \n",
    "    #Recuperar los tweets en base a los criterios\n",
    "    tweet = got.manager.TweetManager.getTweets(tweetCriteria)\n",
    "\n",
    "    text_tweets = [[tw.username,\n",
    "                tw.text,\n",
    "                tw.date,\n",
    "                tw.retweets,\n",
    "                tw.favorites,\n",
    "                tw.hashtags] for tw in tweet]\n",
    "    \n",
    "    # Crear dataframe con los atributos de las columnas correspondientes a los tweets\n",
    "    news_df = pd.DataFrame(text_tweets, \n",
    "                            columns = ['User', 'Text', 'Date', 'Favorites', 'Retweets', 'HashTags'])\n",
    "    # Retorna el dataframe\n",
    "    return news_df\n",
    "\n",
    "\n",
    "#Definicion de las fuentes\n",
    "news_sources = ['bbcmundo','CNNEE']\n",
    "#Ejecutar la función con los criterios\n",
    "news_df = get_tweets(news_sources, \n",
    "                     top_only = False,\n",
    "                     start_date = \"2019-12-01\", \n",
    "                     end_date = \"2020-01-01\",\n",
    "                    max_tweets = 20000).sort_values('Date',ascending=True)\n",
    "\n",
    "#Vizualizar el dataframe\n",
    "news_df.head()\n",
    "\n",
    "#Guardar el dataframe en formato csv\n",
    "news_df.to_csv(\"Tweets_DicT.csv\")"
   ]
  },
  {
   "cell_type": "code",
   "execution_count": 30,
   "metadata": {},
   "outputs": [],
   "source": [
    "from pymongo import MongoClient\n",
    "\n",
    "client = MongoClient('localhost', 27017)\n",
    "\n",
    "db = client['tweets2']\n",
    "collection = db['julio2']"
   ]
  },
  {
   "cell_type": "code",
   "execution_count": 31,
   "metadata": {},
   "outputs": [
    {
     "data": {
      "text/plain": [
       "<pymongo.results.InsertManyResult at 0x1c38ddc45c8>"
      ]
     },
     "execution_count": 31,
     "metadata": {},
     "output_type": "execute_result"
    }
   ],
   "source": [
    "collection.insert_many(news_df.to_dict('records'))"
   ]
  },
  {
   "cell_type": "code",
   "execution_count": 32,
   "metadata": {},
   "outputs": [],
   "source": [
    "resultados2 = collection.find()"
   ]
  },
  {
   "cell_type": "code",
   "execution_count": 33,
   "metadata": {},
   "outputs": [
    {
     "data": {
      "text/plain": [
       "<pymongo.cursor.Cursor at 0x1c38e228f48>"
      ]
     },
     "execution_count": 33,
     "metadata": {},
     "output_type": "execute_result"
    }
   ],
   "source": [
    "resultados2"
   ]
  },
  {
   "cell_type": "code",
   "execution_count": 6,
   "metadata": {},
   "outputs": [
    {
     "ename": "NameError",
     "evalue": "name 'Jul' is not defined",
     "output_type": "error",
     "traceback": [
      "\u001b[1;31m---------------------------------------------------------------------------\u001b[0m",
      "\u001b[1;31mNameError\u001b[0m                                 Traceback (most recent call last)",
      "\u001b[1;32m<ipython-input-6-ed64ec17ad2f>\u001b[0m in \u001b[0;36m<module>\u001b[1;34m\u001b[0m\n\u001b[1;32m----> 1\u001b[1;33m \u001b[0mJul\u001b[0m\u001b[1;33m.\u001b[0m\u001b[0mdescription\u001b[0m\u001b[1;33m\u001b[0m\u001b[1;33m\u001b[0m\u001b[0m\n\u001b[0m",
      "\u001b[1;31mNameError\u001b[0m: name 'Jul' is not defined"
     ]
    }
   ],
   "source": []
  },
  {
   "cell_type": "code",
   "execution_count": 10,
   "metadata": {},
   "outputs": [
    {
     "data": {
      "text/html": [
       "<div>\n",
       "<style scoped>\n",
       "    .dataframe tbody tr th:only-of-type {\n",
       "        vertical-align: middle;\n",
       "    }\n",
       "\n",
       "    .dataframe tbody tr th {\n",
       "        vertical-align: top;\n",
       "    }\n",
       "\n",
       "    .dataframe thead th {\n",
       "        text-align: right;\n",
       "    }\n",
       "</style>\n",
       "<table border=\"1\" class=\"dataframe\">\n",
       "  <thead>\n",
       "    <tr style=\"text-align: right;\">\n",
       "      <th></th>\n",
       "      <th>User</th>\n",
       "      <th>Text</th>\n",
       "      <th>Date</th>\n",
       "      <th>Favorites</th>\n",
       "      <th>Retweets</th>\n",
       "      <th>HashTags</th>\n",
       "    </tr>\n",
       "  </thead>\n",
       "  <tbody>\n",
       "    <tr>\n",
       "      <td>8748</td>\n",
       "      <td>CNNEE</td>\n",
       "      <td>Una escalofriante llamada al 911 pudo haber ca...</td>\n",
       "      <td>2019-12-01 00:00:03+00:00</td>\n",
       "      <td>23</td>\n",
       "      <td>52</td>\n",
       "      <td></td>\n",
       "    </tr>\n",
       "    <tr>\n",
       "      <td>8747</td>\n",
       "      <td>bbcmundo</td>\n",
       "      <td>Azúcar extraterrestre. Por qué el hallazgo en ...</td>\n",
       "      <td>2019-12-01 00:00:07+00:00</td>\n",
       "      <td>46</td>\n",
       "      <td>56</td>\n",
       "      <td></td>\n",
       "    </tr>\n",
       "    <tr>\n",
       "      <td>8746</td>\n",
       "      <td>CNNEE</td>\n",
       "      <td>Esta semana saltaron las alarmas en la Casa Bl...</td>\n",
       "      <td>2019-12-01 00:05:02+00:00</td>\n",
       "      <td>19</td>\n",
       "      <td>36</td>\n",
       "      <td></td>\n",
       "    </tr>\n",
       "    <tr>\n",
       "      <td>8745</td>\n",
       "      <td>bbcmundo</td>\n",
       "      <td>Los estudios exhaustivos de ADN no han logrado...</td>\n",
       "      <td>2019-12-01 00:07:03+00:00</td>\n",
       "      <td>30</td>\n",
       "      <td>97</td>\n",
       "      <td></td>\n",
       "    </tr>\n",
       "    <tr>\n",
       "      <td>8744</td>\n",
       "      <td>bbcmundo</td>\n",
       "      <td>\"Existía un movimiento que estaba en contra de...</td>\n",
       "      <td>2019-12-01 00:08:06+00:00</td>\n",
       "      <td>16</td>\n",
       "      <td>23</td>\n",
       "      <td></td>\n",
       "    </tr>\n",
       "  </tbody>\n",
       "</table>\n",
       "</div>"
      ],
      "text/plain": [
       "          User                                               Text  \\\n",
       "8748     CNNEE  Una escalofriante llamada al 911 pudo haber ca...   \n",
       "8747  bbcmundo  Azúcar extraterrestre. Por qué el hallazgo en ...   \n",
       "8746     CNNEE  Esta semana saltaron las alarmas en la Casa Bl...   \n",
       "8745  bbcmundo  Los estudios exhaustivos de ADN no han logrado...   \n",
       "8744  bbcmundo  \"Existía un movimiento que estaba en contra de...   \n",
       "\n",
       "                          Date  Favorites  Retweets HashTags  \n",
       "8748 2019-12-01 00:00:03+00:00         23        52           \n",
       "8747 2019-12-01 00:00:07+00:00         46        56           \n",
       "8746 2019-12-01 00:05:02+00:00         19        36           \n",
       "8745 2019-12-01 00:07:03+00:00         30        97           \n",
       "8744 2019-12-01 00:08:06+00:00         16        23           "
      ]
     },
     "execution_count": 10,
     "metadata": {},
     "output_type": "execute_result"
    }
   ],
   "source": [
    "news_df.head()"
   ]
  },
  {
   "cell_type": "code",
   "execution_count": 16,
   "metadata": {},
   "outputs": [],
   "source": [
    "news_df['Date'] = pd.to_datetime(news_df['Date'])"
   ]
  },
  {
   "cell_type": "code",
   "execution_count": 18,
   "metadata": {},
   "outputs": [
    {
     "data": {
      "text/html": [
       "<div>\n",
       "<style scoped>\n",
       "    .dataframe tbody tr th:only-of-type {\n",
       "        vertical-align: middle;\n",
       "    }\n",
       "\n",
       "    .dataframe tbody tr th {\n",
       "        vertical-align: top;\n",
       "    }\n",
       "\n",
       "    .dataframe thead th {\n",
       "        text-align: right;\n",
       "    }\n",
       "</style>\n",
       "<table border=\"1\" class=\"dataframe\">\n",
       "  <thead>\n",
       "    <tr style=\"text-align: right;\">\n",
       "      <th></th>\n",
       "      <th>User</th>\n",
       "      <th>Text</th>\n",
       "      <th>Date</th>\n",
       "      <th>Favorites</th>\n",
       "      <th>Retweets</th>\n",
       "      <th>HashTags</th>\n",
       "    </tr>\n",
       "  </thead>\n",
       "  <tbody>\n",
       "    <tr>\n",
       "      <td>8748</td>\n",
       "      <td>CNNEE</td>\n",
       "      <td>Una escalofriante llamada al 911 pudo haber ca...</td>\n",
       "      <td>2019-12-01 00:00:03+00:00</td>\n",
       "      <td>23</td>\n",
       "      <td>52</td>\n",
       "      <td></td>\n",
       "    </tr>\n",
       "    <tr>\n",
       "      <td>8747</td>\n",
       "      <td>bbcmundo</td>\n",
       "      <td>Azúcar extraterrestre. Por qué el hallazgo en ...</td>\n",
       "      <td>2019-12-01 00:00:07+00:00</td>\n",
       "      <td>46</td>\n",
       "      <td>56</td>\n",
       "      <td></td>\n",
       "    </tr>\n",
       "    <tr>\n",
       "      <td>8746</td>\n",
       "      <td>CNNEE</td>\n",
       "      <td>Esta semana saltaron las alarmas en la Casa Bl...</td>\n",
       "      <td>2019-12-01 00:05:02+00:00</td>\n",
       "      <td>19</td>\n",
       "      <td>36</td>\n",
       "      <td></td>\n",
       "    </tr>\n",
       "    <tr>\n",
       "      <td>8745</td>\n",
       "      <td>bbcmundo</td>\n",
       "      <td>Los estudios exhaustivos de ADN no han logrado...</td>\n",
       "      <td>2019-12-01 00:07:03+00:00</td>\n",
       "      <td>30</td>\n",
       "      <td>97</td>\n",
       "      <td></td>\n",
       "    </tr>\n",
       "    <tr>\n",
       "      <td>8744</td>\n",
       "      <td>bbcmundo</td>\n",
       "      <td>\"Existía un movimiento que estaba en contra de...</td>\n",
       "      <td>2019-12-01 00:08:06+00:00</td>\n",
       "      <td>16</td>\n",
       "      <td>23</td>\n",
       "      <td></td>\n",
       "    </tr>\n",
       "  </tbody>\n",
       "</table>\n",
       "</div>"
      ],
      "text/plain": [
       "          User                                               Text  \\\n",
       "8748     CNNEE  Una escalofriante llamada al 911 pudo haber ca...   \n",
       "8747  bbcmundo  Azúcar extraterrestre. Por qué el hallazgo en ...   \n",
       "8746     CNNEE  Esta semana saltaron las alarmas en la Casa Bl...   \n",
       "8745  bbcmundo  Los estudios exhaustivos de ADN no han logrado...   \n",
       "8744  bbcmundo  \"Existía un movimiento que estaba en contra de...   \n",
       "\n",
       "                          Date  Favorites  Retweets HashTags  \n",
       "8748 2019-12-01 00:00:03+00:00         23        52           \n",
       "8747 2019-12-01 00:00:07+00:00         46        56           \n",
       "8746 2019-12-01 00:05:02+00:00         19        36           \n",
       "8745 2019-12-01 00:07:03+00:00         30        97           \n",
       "8744 2019-12-01 00:08:06+00:00         16        23           "
      ]
     },
     "execution_count": 18,
     "metadata": {},
     "output_type": "execute_result"
    }
   ],
   "source": [
    "news_df.head()"
   ]
  },
  {
   "cell_type": "code",
   "execution_count": 20,
   "metadata": {},
   "outputs": [
    {
     "data": {
      "text/plain": [
       "User                      object\n",
       "Text                      object\n",
       "Date         datetime64[ns, UTC]\n",
       "Favorites                  int64\n",
       "Retweets                   int64\n",
       "HashTags                  object\n",
       "dtype: object"
      ]
     },
     "execution_count": 20,
     "metadata": {},
     "output_type": "execute_result"
    }
   ],
   "source": [
    "news_df.dtypes"
   ]
  },
  {
   "cell_type": "code",
   "execution_count": null,
   "metadata": {},
   "outputs": [],
   "source": []
  }
 ],
 "metadata": {
  "kernelspec": {
   "display_name": "Python 3",
   "language": "python",
   "name": "python3"
  },
  "language_info": {
   "codemirror_mode": {
    "name": "ipython",
    "version": 3
   },
   "file_extension": ".py",
   "mimetype": "text/x-python",
   "name": "python",
   "nbconvert_exporter": "python",
   "pygments_lexer": "ipython3",
   "version": "3.7.4"
  }
 },
 "nbformat": 4,
 "nbformat_minor": 2
}
